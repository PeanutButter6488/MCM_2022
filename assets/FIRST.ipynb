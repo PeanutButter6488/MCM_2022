{
 "cells": [
  {
   "cell_type": "code",
   "execution_count": 1,
   "metadata": {},
   "outputs": [],
   "source": [
    "import pandas as pd\n",
    "import numpy as np\n",
    "%matplotlib widget\n",
    "import matplotlib.pyplot as plt\n",
    "from tqdm import tqdm\n",
    "from datetime import datetime\n",
    "from datetime import timedelta"
   ]
  },
  {
   "cell_type": "code",
   "execution_count": 2,
   "metadata": {},
   "outputs": [],
   "source": [
    "df_bitcoin = pd.read_csv(\"../dataset/BCHAIN-MKPRU.csv\")\n",
    "df_gold = pd.read_csv(\"../dataset/LBMA-GOLD.csv\")"
   ]
  },
  {
   "cell_type": "code",
   "execution_count": 3,
   "metadata": {},
   "outputs": [],
   "source": [
    "\"\"\"\n",
    "Model 1: \n",
    "    No transactions during five years\n",
    "    Test different combinations of investment ratio\n",
    "\"\"\"\n",
    "cash = 1000\n",
    "share = [0, 0]\n",
    "best = [0, 0, 0]\n",
    "for i in range(101):\n",
    "    share[0] = cash*0.98 * (i/100) / df_bitcoin.iloc[0]['Value']\n",
    "    share[1] = cash*0.99 * (1-(i/100)) / df_gold.iloc[0]['USD (PM)']\n",
    "    final_asset = df_bitcoin.iloc[-1]['Value'] * share[0] + df_gold.iloc[-1]['USD (PM)'] * share[1]\n",
    "    if (final_asset > best[0]):\n",
    "        best[0] = final_asset\n",
    "        best[1] = i/100\n",
    "        best[2] = 1-i/100"
   ]
  },
  {
   "cell_type": "code",
   "execution_count": 4,
   "metadata": {},
   "outputs": [
    {
     "data": {
      "text/plain": [
       "[73097.91072146707, 1.0, 0.0]"
      ]
     },
     "execution_count": 4,
     "metadata": {},
     "output_type": "execute_result"
    }
   ],
   "source": [
    "best"
   ]
  },
  {
   "cell_type": "code",
   "execution_count": 5,
   "metadata": {},
   "outputs": [],
   "source": [
    "money = 1000 * 0.99\n",
    "for index in df_gold.index:\n",
    "    row = df_gold.loc[index]\n",
    "    percent = row['Return']\n",
    "    money = money * (1+percent)"
   ]
  },
  {
   "cell_type": "code",
   "execution_count": 6,
   "metadata": {},
   "outputs": [
    {
     "data": {
      "text/plain": [
       "1327.8630982938464"
      ]
     },
     "execution_count": 6,
     "metadata": {},
     "output_type": "execute_result"
    }
   ],
   "source": [
    "money * 0.99"
   ]
  },
  {
   "cell_type": "code",
   "execution_count": 7,
   "metadata": {},
   "outputs": [],
   "source": [
    "\"\"\"\n",
    "A wrapper function that calculates the final amount of assets given different thresholds as inputs\n",
    "(For Model 2)\n",
    "\"\"\"\n",
    "def method2(df, maxthres, minthres):\n",
    "    money = 1000 * 0.98\n",
    "    cur = 0\n",
    "    status = 1\n",
    "    for index in df.index:\n",
    "        row = df.loc[index]\n",
    "        percent = row['Return']\n",
    "        price = row['Value']\n",
    "        cur += percent\n",
    "        if status == 1:\n",
    "            if cur > maxthres:\n",
    "                status = 0\n",
    "                money = money * (1+percent) * 0.98\n",
    "                cur = 0\n",
    "            else:\n",
    "                money = money * (1+percent)\n",
    "        if status == 0:\n",
    "            if cur < minthres:\n",
    "                status = 1\n",
    "                cur = 0     \n",
    "    return money"
   ]
  },
  {
   "cell_type": "code",
   "execution_count": 8,
   "metadata": {},
   "outputs": [
    {
     "name": "stderr",
     "output_type": "stream",
     "text": [
      "100%|██████████| 100/100 [05:02<00:00,  3.02s/it]\n"
     ]
    }
   ],
   "source": [
    "\"\"\"\n",
    "Model 2:\n",
    "    Define two constant thresholds:\n",
    "    - one positive threshold for determining when to sell\n",
    "    - one negative threshold for determining when to buy\n",
    "\"\"\"\n",
    "max_money = 0\n",
    "for i in tqdm(range(0, 100)):\n",
    "    for j in range(-20, 0):\n",
    "        cur = method2(df_bitcoin, i/100,j/100)\n",
    "        if cur > max_money:\n",
    "            max_money = cur\n",
    "            max = i\n",
    "            min = j"
   ]
  },
  {
   "cell_type": "code",
   "execution_count": 9,
   "metadata": {},
   "outputs": [
    {
     "data": {
      "text/plain": [
       "(1341.275856862471, 76, -4)"
      ]
     },
     "execution_count": 9,
     "metadata": {},
     "output_type": "execute_result"
    }
   ],
   "source": [
    "money, max, min"
   ]
  },
  {
   "cell_type": "code",
   "execution_count": 10,
   "metadata": {},
   "outputs": [],
   "source": [
    "\"\"\"\n",
    "Model 3:\n",
    "    Moving Average, Golden Cross and Dead Cross\n",
    "\"\"\"\n",
    "\n",
    "money = 1000\n",
    "status = 0\n",
    "for index in df_bitcoin.index:\n",
    "    if index != 1825:\n",
    "        row = df_bitcoin.loc[index]\n",
    "        rowcompare = df_bitcoin.loc[index+1]\n",
    "        value = rowcompare['Value']\n",
    "        x1 = row['MA5']\n",
    "        x2 = rowcompare['MA5']\n",
    "        y1 = row['MA10']\n",
    "        y2 = rowcompare['MA10']\n",
    "        if x1 > y1 and x2 < y2 and status == 1:    # Dead Cross, signal for sale\n",
    "            status = 0 \n",
    "            money = share * value * 0.98\n",
    "        elif x1 < y1 and x2 > y2 and status == 0:  # Golden Cross, signal for buy\n",
    "            status = 1\n",
    "            share = money / value * 0.98"
   ]
  },
  {
   "cell_type": "code",
   "execution_count": 11,
   "metadata": {},
   "outputs": [
    {
     "data": {
      "text/plain": [
       "587.7797327819005"
      ]
     },
     "execution_count": 11,
     "metadata": {},
     "output_type": "execute_result"
    }
   ],
   "source": [
    "money"
   ]
  },
  {
   "cell_type": "code",
   "execution_count": 12,
   "metadata": {},
   "outputs": [],
   "source": [
    "\"\"\"\n",
    "Model 4:\n",
    "    Buy Signal appears only when MA5, MA10, MA30 increase simul\n",
    "    Sell all assets when reached expectation threshold\n",
    "\"\"\"\n",
    "\n",
    "money = 1000\n",
    "status = 0\n",
    "cur = 0\n",
    "for index in df_bitcoin.index:\n",
    "    if index != 1825:\n",
    "        row = df_bitcoin.loc[index]\n",
    "        rowcompare = df_bitcoin.loc[index+1]\n",
    "        value = rowcompare['Value']\n",
    "        x1 = row['Value']\n",
    "        x2 = rowcompare['Value']\n",
    "        y1 = row['MA5']\n",
    "        y2 = rowcompare['MA5']\n",
    "        a1 = row['MA10']\n",
    "        a2 = rowcompare['MA10']\n",
    "        b1 = row['MA30']\n",
    "        b2 = rowcompare['MA30']\n",
    "        if status == 0 and y2 > y1 and a2 > a1 and b2 > b1:     # Buy Siganl\n",
    "            status = 1\n",
    "            share = money / value * 0.98\n",
    "            buyprice = value\n",
    "        if status == 1 and value / buyprice > 1.5:              # Sell Signal\n",
    "            status = 0 \n",
    "            money = share * value * 0.98\n",
    "            cur = 0"
   ]
  },
  {
   "cell_type": "code",
   "execution_count": 13,
   "metadata": {},
   "outputs": [
    {
     "data": {
      "text/plain": [
       "52733.181739128115"
      ]
     },
     "execution_count": 13,
     "metadata": {},
     "output_type": "execute_result"
    }
   ],
   "source": [
    "money"
   ]
  },
  {
   "cell_type": "code",
   "execution_count": 14,
   "metadata": {},
   "outputs": [],
   "source": [
    "\"\"\"\n",
    "Model 5:\n",
    "    Different Buying Stages\n",
    "\"\"\"\n",
    "cash = 1000\n",
    "money_spend = 0\n",
    "asset = 0  \n",
    "percent = 10\n",
    "for index in df_bitcoin.index:\n",
    "    if index != 1825:   \n",
    "        cur = df_bitcoin.loc[index]\n",
    "        nex = df_bitcoin.loc[index+1]\n",
    "        cur_value = cur['Value']\n",
    "        cur_ma5 = cur['MA5']\n",
    "        cur_ma10 = cur['MA10']\n",
    "        cur_ma30 = cur['MA30']\n",
    "        nex_value = nex['Value']\n",
    "        nex_ma5 = nex['MA5']\n",
    "        nex_ma10 = nex['MA10']\n",
    "        nex_ma30 = nex['MA30']\n",
    "        \n",
    "        if cur_ma5 > cur_ma10 and nex_ma5 < nex_ma10:\n",
    "            percent = 20\n",
    "        if cur_ma10 > cur_ma30 and nex_ma10 < nex_ma30:\n",
    "            percent = 50\n",
    "            \n",
    "        if money_spend < cash * 0.8 and cur_ma5 > cur_ma10 and nex_ma5 > nex_ma10:       # signal for buy\n",
    "            asset += (cash * 0.20) * 0.98 / nex_value\n",
    "            money_spend += cash * 0.20\n",
    "        if money_spend < cash * 0.5 and cur_ma5 > cur_ma10 and cur_ma10 > cur_ma30 and nex_ma10 > nex_ma30:     # signal for bigger buy\n",
    "            asset += (cash * 0.50) * 0.98 / nex_value\n",
    "            money_spend += cash * 0.50\n",
    "        if (money_spend != 0) and (nex_value * asset / money_spend) > 1.50:\n",
    "            cash = (cash - money_spend) + asset * nex_value * 0.98\n",
    "            money_spend = 0\n",
    "            asset = 0\n",
    "total = cash - money_spend + asset * nex_value"
   ]
  },
  {
   "cell_type": "code",
   "execution_count": 15,
   "metadata": {},
   "outputs": [
    {
     "data": {
      "text/plain": [
       "38816.763280649044"
      ]
     },
     "execution_count": 15,
     "metadata": {},
     "output_type": "execute_result"
    }
   ],
   "source": [
    "total"
   ]
  },
  {
   "cell_type": "code",
   "execution_count": 16,
   "metadata": {},
   "outputs": [],
   "source": [
    "df_bitcoin = pd.read_csv(\"BCHAIN-MKPRU_model6.csv\")\n",
    "df_gold = pd.read_csv(\"LBMA-GOLD_model6.csv\")"
   ]
  },
  {
   "cell_type": "code",
   "execution_count": 17,
   "metadata": {},
   "outputs": [],
   "source": [
    "df_gold.columns = ['Date', 'Value', 'Return', 'MA5', 'MA10']\n",
    "df_gold = df_gold[29:]\n",
    "df_bitcoin = df_bitcoin[29:]\n",
    "\n",
    "for index in df_gold.index:\n",
    "    row = df_gold.loc[index]\n",
    "    df_gold.loc[index, \"Date\"] = datetime.strptime(row['Date'], \"%m/%d/%y\")\n",
    "for index in df_bitcoin.index:\n",
    "    row = df_bitcoin.loc[index]\n",
    "    df_bitcoin.loc[index, \"Date\"] = datetime.strptime(row['Date'], \"%m/%d/%y\")"
   ]
  },
  {
   "cell_type": "code",
   "execution_count": 18,
   "metadata": {},
   "outputs": [],
   "source": [
    "for index in df_gold.index:\n",
    "    if index != 29:\n",
    "        row = df_gold.loc[index-1]\n",
    "        rowcompare = df_gold.loc[index]\n",
    "        x1 = row['Value']\n",
    "        x2 = rowcompare['Value']\n",
    "        y1 = row['MA5']\n",
    "        y2 = rowcompare['MA5']\n",
    "        \n",
    "        if x1 < y1 and x2 > y2:\n",
    "            df_gold.loc[index, \"decide\"] = 1\n",
    "        elif x1 > y1 and x2 < y2:\n",
    "            df_gold.loc[index, \"decide\"] = -1\n",
    "        else:\n",
    "            df_gold.loc[index, \"decide\"] = 0"
   ]
  },
  {
   "cell_type": "code",
   "execution_count": 19,
   "metadata": {},
   "outputs": [],
   "source": [
    "df_gold = df_gold[1:]\n",
    "df = df_bitcoin.merge(df_gold, how='outer',on='Date')\n",
    "golddate = df_gold['Date'].values"
   ]
  },
  {
   "cell_type": "code",
   "execution_count": 20,
   "metadata": {},
   "outputs": [],
   "source": [
    "\"\"\"\n",
    "Final Model: Model 6\n",
    "    Combining all the ideas above.\n",
    "    The idea of Moving Average (MA), different buying stages, self-adapted selling thresholds, \n",
    "    and diversification of total assets are applied.\n",
    "\"\"\"\n",
    "trans = pd.DataFrame(columns = ['Date', 'money_owned', 'money_spend', \"bitcoin_value\", \"type\"])\n",
    "money = 1000\n",
    "cash = 1000\n",
    "status = 0\n",
    "goldstatus = 0\n",
    "thres = 1.5\n",
    "sellprice = 1000\n",
    "money_spend = 0\n",
    "bitcoin = 0\n",
    "share = 0\n",
    "for index in df.index:\n",
    "    if index <= 1766:\n",
    "        row = df.loc[index]\n",
    "        rowcompare = df.loc[index+1]\n",
    "        value = rowcompare['Value_x']\n",
    "        date = rowcompare['Date']\n",
    "        x1 = row['Value_x']\n",
    "        x2 = rowcompare['Value_x']\n",
    "        y1 = row['MA5_x']\n",
    "        y2 = rowcompare['MA5_x']\n",
    "        a1 = row['MA10_x']\n",
    "        a2 = rowcompare['MA10_x']\n",
    "        b1 = row['MA30']\n",
    "        b2 = rowcompare['MA30']\n",
    "        if a1 > b1 and a2 < b2:\n",
    "            thres = 1.5\n",
    "        if a1 < b1 and a2 > b2:\n",
    "            thres = 3\n",
    "            \n",
    "        # Buying and Selling Bitcoins\n",
    "        if goldstatus == 0 or goldstatus == -1:            \n",
    "            if money_spend < money * 0.8 and x1 > y1 and x2 > y2:\n",
    "                if goldstatus == -1:\n",
    "                    while date not in golddate:\n",
    "                        date -= timedelta(days=1) \n",
    "                    money = share * df_gold[df_gold['Date'] == date].iloc[0]['Value'] * 0.99\n",
    "                    goldstatus = 0\n",
    "                bitcoin += (money * 0.20) / value * 0.98\n",
    "                money_spend += money * 0.20\n",
    "                dict = {\"Date\":date, \"money_owned\":money, \"money_spend\":money_spend, \"bitcoin_value\":value, \"type\":\"buy small\"}\n",
    "                trans = trans.append(dict, ignore_index=True)\n",
    "                \n",
    "            if money_spend < money * 0.5 and y1 > a1 and y2 > a2:\n",
    "                if goldstatus == -1:\n",
    "                    while date not in golddate:\n",
    "                        date -= timedelta(days=1) \n",
    "                    money = share * df_gold[df_gold['Date'] == date].iloc[0]['Value'] * 0.99\n",
    "                    goldstatus = 0\n",
    "                bitcoin += (money * 0.50) / value * 0.98\n",
    "                money_spend += money * 0.50\n",
    "                dict = {\"Date\":date, \"money_owned\":money, \"money_spend\":money_spend, \"bitcoin_value\":value, \"type\":\"buy large\"}\n",
    "                trans = trans.append(dict, ignore_index=True)\n",
    "            \n",
    "            if (money_spend != 0) and (value * bitcoin / money_spend) > thres:\n",
    "                money = (money-money_spend) + bitcoin * value * 0.98\n",
    "                money_spend = 0 \n",
    "                bitcoin = 0\n",
    "                goldstatus = 1\n",
    "                dict = {\"Date\":date, \"money_owned\":money, \"money_spend\":money_spend, \"bitcoin_value\":value, \"type\":\"sell\"}\n",
    "                trans = trans.append(dict, ignore_index=True)\n",
    "        \n",
    "        # Buying and Selling Golds\n",
    "        if (goldstatus == 1) and (date in golddate):\n",
    "            if rowcompare['decide'] == 1:\n",
    "                share = money / rowcompare['Value_y'] * 0.99\n",
    "                goldstatus = -1\n",
    "        \n",
    "        if (goldstatus == -1) and (date in golddate):\n",
    "            if rowcompare['decide'] == -1:\n",
    "                money = share * rowcompare['Value_y'] * 0.99\n",
    "                goldstatus = 0"
   ]
  },
  {
   "cell_type": "code",
   "execution_count": 21,
   "metadata": {},
   "outputs": [
    {
     "data": {
      "text/plain": [
       "60063.71003857569"
      ]
     },
     "execution_count": 21,
     "metadata": {},
     "output_type": "execute_result"
    }
   ],
   "source": [
    "total = money + bitcoin * value\n",
    "total"
   ]
  }
 ],
 "metadata": {
  "kernelspec": {
   "display_name": "Python 3",
   "language": "python",
   "name": "python3"
  },
  "language_info": {
   "codemirror_mode": {
    "name": "ipython",
    "version": 3
   },
   "file_extension": ".py",
   "mimetype": "text/x-python",
   "name": "python",
   "nbconvert_exporter": "python",
   "pygments_lexer": "ipython3",
   "version": "3.7.8"
  }
 },
 "nbformat": 4,
 "nbformat_minor": 4
}
